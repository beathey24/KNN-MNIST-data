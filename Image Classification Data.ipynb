{
 "cells": [
  {
   "cell_type": "markdown",
   "metadata": {},
   "source": [
    "# Image Classification Data\n",
    "## Import libraries "
   ]
  },
  {
   "cell_type": "code",
   "execution_count": 70,
   "metadata": {},
   "outputs": [],
   "source": [
    "import pandas as pd \n",
    "import numpy as np \n",
    "import collections\n",
    "import statistics \n",
    "import matplotlib.pyplot as plt"
   ]
  },
  {
   "cell_type": "markdown",
   "metadata": {},
   "source": [
    "## Import Data as csv file and combine"
   ]
  },
  {
   "cell_type": "code",
   "execution_count": 82,
   "metadata": {},
   "outputs": [],
   "source": [
    "# imports training data and assigns label to identify which training set it is \n",
    "data_train3 = pd.read_csv(\"/Users/brookeathey/OneDrive - Texas State University/Spring 2020/Data Science/Algorithims/train.3.txt\",header=None, sep=',')\n",
    "P = data_train3.shape[0] # gets number of rows in matrix \n",
    "label3 = [3]*P # creates a label 3 for all rows \n",
    "data_train3.insert(0,'label',label3) #inserts label into matrix \n",
    "#print(data_train3) # test print\n",
    "\n",
    "data_train2 = pd.read_csv(\"/Users/brookeathey/OneDrive - Texas State University/Spring 2020/Data Science/Algorithims/train.2.txt\",header=None, sep=',') \n",
    "R = data_train2.shape[0] \n",
    "label2 = [2] *R \n",
    "data_train2.insert(0,'label',label2)\n",
    "#print(data_train2)\n",
    "\n",
    "# Combine train 2 and train 3 data using .append \n",
    "data_train = data_train2.append(data_train3)\n",
    "data_train = data_train.values\n",
    "#print(data_train)\n",
    "\n",
    "\n",
    "# import test data \n",
    "data_test = pd.read_csv(\"/Users/brookeathey/OneDrive - Texas State University/Spring 2020/Data Science/Algorithims/zip.test\",header=None, sep=' ')\n",
    "#print(data_test)\n",
    "data_test = data_test.rename(columns={0: 'label'})\n",
    "#print(data_test)\n",
    "data_test = data_test[(data_test.label == 2) | (data_test.label == 3)]\n",
    "data_test = data_test.values\n",
    "#print(data_test)"
   ]
  },
  {
   "cell_type": "markdown",
   "metadata": {},
   "source": [
    "## K- Nearest Neighbor Algorithim"
   ]
  },
  {
   "cell_type": "code",
   "execution_count": 119,
   "metadata": {},
   "outputs": [
    {
     "name": "stdout",
     "output_type": "stream",
     "text": [
      "[2.4725274725274726]\n",
      "[2.4725274725274726, 2.7472527472527473]\n",
      "[2.4725274725274726, 2.7472527472527473, 2.838827838827839]\n",
      "[2.4725274725274726, 2.7472527472527473, 2.838827838827839, 2.9532967032967035]\n",
      "[2.4725274725274726, 2.7472527472527473, 2.838827838827839, 2.9532967032967035, 3.076923076923077]\n",
      "[2.4725274725274726, 2.7472527472527473, 2.838827838827839, 2.9532967032967035, 3.076923076923077, 3.159340659340659]\n",
      "[2.4725274725274726, 2.7472527472527473, 2.838827838827839, 2.9532967032967035, 3.076923076923077, 3.159340659340659, 3.2574568288854002]\n",
      "[2.4725274725274726, 2.7472527472527473, 2.838827838827839, 2.9532967032967035, 3.076923076923077, 3.159340659340659, 3.2574568288854002, 3.331043956043956]\n",
      "[2.4725274725274726, 2.7472527472527473, 2.838827838827839, 2.9532967032967035, 3.076923076923077, 3.159340659340659, 3.2574568288854002, 3.331043956043956, 3.3882783882783882]\n",
      "[2.4725274725274726, 2.7472527472527473, 2.838827838827839, 2.9532967032967035, 3.076923076923077, 3.159340659340659, 3.2574568288854002, 3.331043956043956, 3.3882783882783882, 3.4615384615384617]\n"
     ]
    }
   ],
   "source": [
    "correctness = []\n",
    "error_vector = []\n",
    "kvec = [1,3,5,7,9,11,13,15,17,19]\n",
    "for K in kvec:\n",
    "    for i in data_test:\n",
    "        #print(i[0])\n",
    "        difference = []\n",
    "        for j in data_train:\n",
    "            distance = np.linalg.norm(i[1:len(i)-1]-j[1:len(j)-1])\n",
    "            difference.append((distance, j[0]))\n",
    "        difference.sort(key=lambda x: x[0])\n",
    "        nearest = [difference[t] for t in np.arange(0, K)]\n",
    "        twos = 0\n",
    "        #print(nearest)\n",
    "        for q in nearest:\n",
    "            if(q[1] == 2):\n",
    "                twos = twos + 1\n",
    "        if(twos/K > 0.5):\n",
    "            if(i[0] == 2):\n",
    "                correctness.append(1)\n",
    "                #print('correct')\n",
    "            else:\n",
    "                correctness.append(0)\n",
    "                #print('incorrect')\n",
    "        else:\n",
    "            if(i[0] == 3):\n",
    "                correctness.append(1)\n",
    "                #print('correct')\n",
    "            else:\n",
    "                correctness.append(0)\n",
    "                #print('incorrect')\n",
    "        #print('###############################')\n",
    "    correct = sum(correctness)\n",
    "    total = len(correctness)\n",
    "    #print(total)\n",
    "    #correctness.append(correct)\n",
    "    #print(correct)\n",
    "    error = 100*(total-correct)/total\n",
    "    #print(error)\n",
    "    error_vector.append(error)\n",
    "    print(error_vector)"
   ]
  },
  {
   "cell_type": "markdown",
   "metadata": {},
   "source": [
    "## Plot results from KNN"
   ]
  },
  {
   "cell_type": "code",
   "execution_count": 69,
   "metadata": {},
   "outputs": [
    {
     "data": {
      "image/png": "[encoded data removed]",
      "text/plain": [
       "<Figure size 432x288 with 1 Axes>"
      ]
     },
     "metadata": {
      "needs_background": "light"
     },
     "output_type": "display_data"
    }
   ],
   "source": [
    "plt.plot(kvec,error_vector, '-o')\n",
    "plt.xlabel('K nearest neighbors')\n",
    "plt.ylabel('Percentage of error in classification')\n",
    "plt.show()"
   ]
  },
  {
   "cell_type": "markdown",
   "metadata": {},
   "source": [
    "## Linear Regression Method"
   ]
  },
  {
   "cell_type": "code",
   "execution_count": 107,
   "metadata": {},
   "outputs": [
    {
     "name": "stdout",
     "output_type": "stream",
     "text": [
      "(1389, 256)\n",
      "(1389,)\n",
      "(364,)\n",
      "(364, 256)\n"
     ]
    }
   ],
   "source": [
    "#get x and y components of data\n",
    "data_train_y = data_train[:,0]\n",
    "data_train_x = data_train[:,1:]\n",
    "print(data_train_x.shape)\n",
    "print(data_train_y.shape)\n",
    "\n",
    "data_test_y = data_test[:,0]\n",
    "data_test_x = data_test[:,1:]\n",
    "print(data_test_y.shape)\n",
    "print(data_test_x.shape)\n"
   ]
  },
  {
   "cell_type": "markdown",
   "metadata": {},
   "source": [
    "## Linear Regression Algorithim"
   ]
  },
  {
   "cell_type": "code",
   "execution_count": 124,
   "metadata": {},
   "outputs": [
    {
     "name": "stdout",
     "output_type": "stream",
     "text": [
      "(256, 256)\n",
      "(256,)\n",
      "(256,)\n",
      "[7.77019298e-03 2.64434676e-03 1.09884760e-01 2.41079477e-02\n",
      " 3.09201075e-02 4.46655150e-02 6.07346258e-02 6.44889889e-02\n",
      " 2.64512040e-02 1.25744638e-04 1.12845045e-01 7.31954210e-03\n",
      " 1.24466404e-02 7.74023721e-02 4.95988388e-03 7.92115848e-02\n",
      " 1.15850885e-01 1.53469038e-01 9.21571196e-03 3.92787212e-05\n",
      " 6.06177767e-02 1.04515157e-02 5.05612873e-02 4.93536723e-03\n",
      " 7.53696234e-02 2.60273709e-02 6.59024901e-01 1.69419191e-03\n",
      " 4.13740221e-02 8.59494934e-02 1.36893607e-02 8.86736423e-05\n",
      " 9.66575595e-02 7.00255984e-03 3.73257100e-03 4.99934516e-02\n",
      " 4.43099036e-03 3.60706433e-02 4.03192453e-03 1.11028130e-01\n",
      " 2.19597293e-03 1.90620038e-01 6.72725633e-04 1.50997657e-05\n",
      " 1.97601180e-02 9.19835451e-03 6.45036808e-02 3.12022676e-02\n",
      " 1.21376281e-05 2.85126138e-02 5.47389713e-01 9.71562749e-03\n",
      " 7.02547458e-02 1.87696037e-01 1.00158685e-02 1.71989955e-02\n",
      " 4.91479490e-02 3.74335924e-02 2.06411531e-03 1.63229174e-01\n",
      " 2.50417232e-01 1.80260401e-02 1.49120239e-02 3.57546298e-03\n",
      " 2.56520063e-02 7.35563784e-03 2.87303022e-02 6.41854609e-03\n",
      " 1.86780616e-02 4.94191716e-02 7.33460185e-02 5.32600344e-02\n",
      " 4.57368222e-02 1.35446782e-02 2.98725122e-04 8.55515253e-02\n",
      " 1.80624518e-01 1.32146647e-01 1.35254685e-01 1.89169327e-03\n",
      " 7.79351998e-02 1.04964753e+00 7.64405659e-03 4.83324069e-01\n",
      " 1.51256949e-02 9.07286138e-05 2.50992815e-02 1.49983633e-04\n",
      " 3.49624586e-02 1.66682257e-01 3.60113669e-02 7.49873365e-03\n",
      " 1.30352995e-01 9.77788517e-03 6.33413378e-03 6.38214855e-02\n",
      " 3.91766359e-03 7.02284041e-02 3.52485454e-02 3.48479771e-03\n",
      " 8.95200809e-04 5.21362843e-03 1.60255128e-03 5.57871664e-02\n",
      " 8.76138707e-04 4.18052017e-03 1.57254326e-01 3.94326113e-03\n",
      " 3.75853563e-02 6.70958568e-02 1.01857494e-03 5.41337594e-03\n",
      " 5.64347180e-02 1.43625436e-01 1.52806612e-01 1.88016141e-03\n",
      " 1.55441713e-02 4.20093306e-02 5.94746576e-05 5.45433953e-07\n",
      " 3.01691379e-02 9.79595120e-02 4.06485535e-03 2.01320319e-03\n",
      " 2.11683713e-02 1.19609800e-01 1.16342966e-01 9.88558212e-02\n",
      " 7.76152770e-04 4.73781273e-02 8.41857184e-02 3.65274526e-02\n",
      " 9.26926061e-03 3.66736785e-02 8.05541084e-03 3.61610436e-02\n",
      " 8.96671072e-02 4.81339273e-01 8.85611784e-02 1.29231457e-02\n",
      " 4.17062439e-02 7.95358004e-05 7.25739951e-02 4.06209550e-04\n",
      " 4.48883205e-02 7.02043381e-03 1.12449372e-02 3.13647007e-01\n",
      " 8.25379797e-04 6.04435029e-02 1.49489383e-01 2.56043067e-02\n",
      " 3.12085786e-02 2.40380041e-01 1.60822775e-02 1.60053440e-04\n",
      " 1.48659158e-02 5.40177426e-03 2.09829190e-02 1.23544927e-04\n",
      " 3.69915136e-02 7.18646347e-02 1.09885848e-03 4.28140373e-02\n",
      " 1.27402123e-02 4.18515492e-02 1.95678156e-03 2.59388306e-02\n",
      " 8.77402855e-03 1.61173065e-02 2.66437178e-02 8.75320824e-01\n",
      " 6.86054699e-03 9.96496200e-02 2.53482550e-01 1.54674146e-02\n",
      " 4.18805340e-02 9.67584996e-02 1.68826374e-02 1.13314468e-05\n",
      " 4.35797089e-04 4.86315947e-03 3.24191173e-02 1.33038603e-03\n",
      " 1.64899258e-01 1.03829135e-02 4.62627964e-03 2.73258975e-02\n",
      " 7.22566980e-03 2.13088325e-02 3.42231738e-01 4.31724900e-02\n",
      " 4.28691114e-04 1.78119956e-03 1.34028134e-02 2.14591993e-02\n",
      " 3.75786644e-02 1.82128523e-02 6.71803980e-02 1.88959924e-02\n",
      " 7.71872044e-02 1.99108619e-03 1.12940837e-02 8.37831818e-02\n",
      " 1.99493380e-04 1.69438399e-03 1.20583096e-02 8.20368650e-01\n",
      " 1.08581058e-02 1.33790332e-01 1.35827124e-03 1.41406258e-03\n",
      " 4.73476675e-03 4.52968676e-02 2.21768933e-02 1.81505598e-03\n",
      " 4.19631846e-03 1.13589390e-03 8.74433854e-02 1.20309114e-02\n",
      " 1.65861741e-02 1.39161038e-02 2.17546416e-02 1.14214590e-03\n",
      " 2.48426616e-02 3.33765188e-02 6.78221632e-02 2.85683111e-03\n",
      " 4.85131299e-02 8.69098308e-03 2.50123722e-02 1.22632561e-03\n",
      " 2.06654182e-04 4.88914091e-03 3.75780276e-02 1.33653893e-02\n",
      " 4.71784754e-03 6.56206149e-02 1.88919550e-02 3.17194047e-03\n",
      " 4.81994868e-04 2.74175408e-02 1.07475038e-01 4.82902397e-02\n",
      " 7.83156561e-03 2.33425527e-02 1.01905048e-06 8.77382844e-02\n",
      " 4.90051871e-02 8.62301338e-03 2.98389635e-02 1.75223645e-02\n",
      " 1.35322957e-02 2.21326636e-02 4.94279894e-02 4.31742383e-02\n",
      " 3.88003314e-02 1.48765730e-01 2.03387153e-04 1.04297474e-02\n",
      " 5.00439537e-03 3.18377726e-01 6.28066274e-02 1.77332277e-02\n",
      " 2.51392856e-02 4.47804718e-03 2.56282797e-04 1.34379165e-03\n",
      " 1.14370387e-02 9.10101184e-05 5.34904856e-02 7.47989291e-03\n",
      " 5.36615251e-02 2.79201149e-02 2.06459366e-02 1.82901524e-01\n",
      " 2.71123367e-02 3.17257182e-03 2.97274757e-05 1.08269285e-03\n",
      " 3.30358643e-03 1.12030260e-03 1.25361044e-02 1.88145390e-03\n",
      " 7.21562367e-03 6.36049166e-02 4.72233249e-02 1.63670782e-02\n",
      " 4.70358726e-02 9.36902727e-03 8.24324373e-03 5.81441025e-07\n",
      " 2.96134539e-04 8.21641010e-02 6.90270054e-02 2.59954377e-02\n",
      " 2.90411727e-02 1.32369856e-03 1.20045389e-02 1.90115424e-02\n",
      " 2.12416250e-01 8.33063274e-02 3.74299789e-03 1.39409952e-01\n",
      " 5.17388189e-03 4.98134374e-01 8.14798523e-03 5.54380175e-03\n",
      " 8.83836096e-02 7.19005952e-03 1.60318570e-03 1.32866135e-02\n",
      " 2.76959194e-04 4.10641009e-04 1.63581769e-02 4.57303034e-02\n",
      " 3.01758319e-03 5.14401911e-02 1.17727533e-02 2.49334736e-02\n",
      " 1.57527594e-02 1.23365547e-03 1.28465322e-03 1.07124148e-02\n",
      " 1.89980147e-01 1.46863975e-01 2.82771205e-01 1.82436934e-02\n",
      " 7.46904069e-02 1.47886385e-03 5.91507020e-02 2.05597407e-05\n",
      " 8.26061877e-02 3.30805435e-02 2.45739139e-02 2.75624619e-02\n",
      " 6.84931529e-02 1.01375829e-02 1.88727662e-02 2.38632324e-03\n",
      " 3.14627206e-02 1.76331566e-02 1.25347010e-02 2.49734407e-02\n",
      " 6.32121357e-02 9.44502008e-03 2.74810954e-02 3.52094973e-03\n",
      " 1.35356135e-02 7.39691827e-02 2.24407208e-02 2.40455701e-02\n",
      " 1.48913134e-02 1.78733039e-01 8.28666936e-04 1.44219004e-03\n",
      " 3.67922038e-02 2.92426474e-02 1.15984886e-02 2.29990114e-02\n",
      " 9.02157478e-03 1.95152572e-03 8.90070324e-02 8.86411920e-03]\n",
      "19.648402741443842\n"
     ]
    }
   ],
   "source": [
    "data_train_xT = np.transpose(data_train_x)\n",
    "#print(data_train_xT)\n",
    "\n",
    "A = data_train_xT .dot(data_train_x)\n",
    "print(A.shape)\n",
    "\n",
    "b = data_train_xT .dot (data_train_y)\n",
    "print(b.shape)\n",
    "\n",
    "beta = np.linalg.solve(A,b)\n",
    "print(beta.shape)\n",
    "\n",
    "#Try test data with linear model \n",
    "result = data_test_x .dot (beta)\n",
    "#print(result)\n",
    "\n",
    "#Calculate Error \n",
    "difference_vector = np.subtract(result,data_test_y)**2\n",
    "print(difference_vector)\n",
    "print(np.sum(difference_vector))\n",
    "\n",
    "#error_vector = np.divide(difference_vector,data_test_y)*100\n",
    "#print(error_vector)"
   ]
  },
  {
   "cell_type": "markdown",
   "metadata": {},
   "source": [
    "## Logistic Regression"
   ]
  },
  {
   "cell_type": "code",
   "execution_count": null,
   "metadata": {},
   "outputs": [],
   "source": []
  }
 ],
 "metadata": {
  "kernelspec": {
   "display_name": "Python 3",
   "language": "python",
   "name": "python3"
  },
  "language_info": {
   "codemirror_mode": {
    "name": "ipython",
    "version": 3
   },
   "file_extension": ".py",
   "mimetype": "text/x-python",
   "name": "python",
   "nbconvert_exporter": "python",
   "pygments_lexer": "ipython3",
   "version": "3.7.4"
  }
 },
 "nbformat": 4,
 "nbformat_minor": 2
}
